{
  "nbformat": 4,
  "nbformat_minor": 0,
  "metadata": {
    "colab": {
      "provenance": [],
      "toc_visible": true,
      "authorship_tag": "ABX9TyPDQrqdL1ZSYt3Wl4yAkXQU",
      "include_colab_link": true
    },
    "kernelspec": {
      "name": "python3",
      "display_name": "Python 3"
    },
    "language_info": {
      "name": "python"
    }
  },
  "cells": [
    {
      "cell_type": "markdown",
      "metadata": {
        "id": "view-in-github",
        "colab_type": "text"
      },
      "source": [
        "<a href=\"https://colab.research.google.com/github/LakshminandaKP/machine-learning/blob/main/KMeans_CLUSTERING_.ipynb\" target=\"_parent\"><img src=\"https://colab.research.google.com/assets/colab-badge.svg\" alt=\"Open In Colab\"/></a>"
      ]
    },
    {
      "cell_type": "markdown",
      "source": [
        "# **KMeans CLUSTERING**"
      ],
      "metadata": {
        "id": "46tW75e44RTW"
      }
    },
    {
      "cell_type": "markdown",
      "source": [
        "## IMPORT MODULES"
      ],
      "metadata": {
        "id": "0nARhmec4Yec"
      }
    },
    {
      "cell_type": "code",
      "execution_count": 1,
      "metadata": {
        "id": "vnkzl8ur3CPj"
      },
      "outputs": [],
      "source": [
        "from sklearn.metrics import silhouette_score\n",
        "from sklearn.cluster import  KMeans\n",
        "import numpy as np\n",
        "import matplotlib.pyplot as plt\n"
      ]
    },
    {
      "cell_type": "markdown",
      "source": [
        "## DATASET"
      ],
      "metadata": {
        "id": "1mtslyLI60Ys"
      }
    },
    {
      "cell_type": "code",
      "source": [
        "x=np.array([[1,2],[1,4],[1,0],[4,2],[4,4],[4,0],[10,2],[10,4],[10,0]])\n",
        "x"
      ],
      "metadata": {
        "colab": {
          "base_uri": "https://localhost:8080/"
        },
        "id": "wCkBdmNm7E0I",
        "outputId": "5d6d4b9c-7a55-40e9-becb-8b94d790535e"
      },
      "execution_count": 2,
      "outputs": [
        {
          "output_type": "execute_result",
          "data": {
            "text/plain": [
              "array([[ 1,  2],\n",
              "       [ 1,  4],\n",
              "       [ 1,  0],\n",
              "       [ 4,  2],\n",
              "       [ 4,  4],\n",
              "       [ 4,  0],\n",
              "       [10,  2],\n",
              "       [10,  4],\n",
              "       [10,  0]])"
            ]
          },
          "metadata": {},
          "execution_count": 2
        }
      ]
    },
    {
      "cell_type": "markdown",
      "source": [
        "##  CREATING MODEL"
      ],
      "metadata": {
        "id": "iOdrL83K7sY6"
      }
    },
    {
      "cell_type": "code",
      "source": [
        "m=KMeans(n_clusters=3,random_state=42,n_init=10)\n"
      ],
      "metadata": {
        "id": "biv9CkFW8n1p"
      },
      "execution_count": 3,
      "outputs": []
    },
    {
      "cell_type": "markdown",
      "source": [
        "## FITTING THE MODEL"
      ],
      "metadata": {
        "id": "yaKpbcqQ-44W"
      }
    },
    {
      "cell_type": "code",
      "source": [
        "m.fit(x)\n",
        "labels=m.labels_"
      ],
      "metadata": {
        "id": "x8tROvu9_FY6"
      },
      "execution_count": 4,
      "outputs": []
    },
    {
      "cell_type": "markdown",
      "source": [
        "## EVALUATION"
      ],
      "metadata": {
        "id": "neCSuDLX99HV"
      }
    },
    {
      "cell_type": "code",
      "source": [
        "sil_score=silhouette_score(x,labels)\n",
        "print(f\"silhouette score:{sil_score:.2f}\")\n"
      ],
      "metadata": {
        "colab": {
          "base_uri": "https://localhost:8080/"
        },
        "id": "GK-jRt9r-PLa",
        "outputId": "4eae4965-cf06-440f-8c88-33da0132362d"
      },
      "execution_count": 5,
      "outputs": [
        {
          "output_type": "stream",
          "name": "stdout",
          "text": [
            "silhouette score:0.39\n"
          ]
        }
      ]
    },
    {
      "cell_type": "markdown",
      "source": [
        "## PLOTTING"
      ],
      "metadata": {
        "id": "EhnnKJEZA3UF"
      }
    },
    {
      "cell_type": "code",
      "source": [
        "\n",
        "plt.scatter(x[:,0],x[:,1],c=labels,cmap='viridis',marker='o',edgecolors='k')\n",
        "plt.scatter(m.cluster_centers_[:,0],m.cluster_centers_[:,1],c='red',s=100,marker='x',label='centroids')\n",
        "plt.title(\"Kmeans CLUSTERING\")\n",
        "plt.legend()\n",
        "plt.show()\n"
      ],
      "metadata": {
        "colab": {
          "base_uri": "https://localhost:8080/",
          "height": 452
        },
        "id": "2I6HJ-UYAz0w",
        "outputId": "6347f666-e006-41ce-a556-3f2fc10c7b76"
      },
      "execution_count": 6,
      "outputs": [
        {
          "output_type": "display_data",
          "data": {
            "text/plain": [
              "<Figure size 640x480 with 1 Axes>"
            ],
            "image/png": "[encoded data removed]"
          },
          "metadata": {}
        }
      ]
    }
  ]
}