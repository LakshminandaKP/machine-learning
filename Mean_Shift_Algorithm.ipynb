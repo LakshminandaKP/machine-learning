{
  "nbformat": 4,
  "nbformat_minor": 0,
  "metadata": {
    "colab": {
      "provenance": [],
      "authorship_tag": "ABX9TyN4qn9+ZueRltEyQ4jhu4Ky",
      "include_colab_link": true
    },
    "kernelspec": {
      "name": "python3",
      "display_name": "Python 3"
    },
    "language_info": {
      "name": "python"
    }
  },
  "cells": [
    {
      "cell_type": "markdown",
      "metadata": {
        "id": "view-in-github",
        "colab_type": "text"
      },
      "source": [
        "<a href=\"https://colab.research.google.com/github/LakshminandaKP/machine-learning/blob/main/Mean_Shift_Algorithm.ipynb\" target=\"_parent\"><img src=\"https://colab.research.google.com/assets/colab-badge.svg\" alt=\"Open In Colab\"/></a>"
      ]
    },
    {
      "cell_type": "markdown",
      "source": [
        "# Mean Shift"
      ],
      "metadata": {
        "id": "ZXco0_Mo-P9H"
      }
    },
    {
      "cell_type": "markdown",
      "source": [
        "## Import Modules"
      ],
      "metadata": {
        "id": "_aqpcO7d-P5w"
      }
    },
    {
      "cell_type": "code",
      "source": [
        "import numpy as np\n",
        "import matplotlib.pyplot as plt\n",
        "from sklearn.metrics import silhouette_score\n",
        "from sklearn.cluster import MeanShift\n",
        "\n"
      ],
      "metadata": {
        "id": "-nPwQA9uxSRF"
      },
      "execution_count": 46,
      "outputs": []
    },
    {
      "cell_type": "markdown",
      "source": [
        "## Dataset"
      ],
      "metadata": {
        "id": "PDXAaluL-fxN"
      }
    },
    {
      "cell_type": "code",
      "source": [
        "\n",
        "\n",
        "X=np.array([[1,2],[1,4],[1,0],[4,2],[4,4],[4,0],[10,2],[10,4],[10,0]])\n",
        "X\n"
      ],
      "metadata": {
        "colab": {
          "base_uri": "https://localhost:8080/"
        },
        "id": "18CxwwLt-h36",
        "outputId": "f6a648f8-208a-45c1-d05a-b6b21b7c69d4"
      },
      "execution_count": 47,
      "outputs": [
        {
          "output_type": "execute_result",
          "data": {
            "text/plain": [
              "array([[ 1,  2],\n",
              "       [ 1,  4],\n",
              "       [ 1,  0],\n",
              "       [ 4,  2],\n",
              "       [ 4,  4],\n",
              "       [ 4,  0],\n",
              "       [10,  2],\n",
              "       [10,  4],\n",
              "       [10,  0]])"
            ]
          },
          "metadata": {},
          "execution_count": 47
        }
      ]
    },
    {
      "cell_type": "markdown",
      "source": [
        "## Model"
      ],
      "metadata": {
        "id": "JqhsjCxY-lxW"
      }
    },
    {
      "cell_type": "code",
      "source": [
        "MS=MeanShift(bandwidth=5)\n"
      ],
      "metadata": {
        "id": "_JY1hqpm-lUo"
      },
      "execution_count": 48,
      "outputs": []
    },
    {
      "cell_type": "markdown",
      "source": [
        "## Fitting"
      ],
      "metadata": {
        "id": "SDQ7d5PK-8-e"
      }
    },
    {
      "cell_type": "code",
      "source": [
        "MS.fit(X)\n",
        "labels=MS.labels_\n",
        "\n"
      ],
      "metadata": {
        "id": "oji1r7ts---l"
      },
      "execution_count": 49,
      "outputs": []
    },
    {
      "cell_type": "markdown",
      "source": [
        "## Evaluating"
      ],
      "metadata": {
        "id": "m2ElgUvK_C5J"
      }
    },
    {
      "cell_type": "code",
      "source": [
        "sil_score=silhouette_score(X,labels)\n",
        "print(f\"Silhouette Score : {sil_score:.2f}\")\n"
      ],
      "metadata": {
        "colab": {
          "base_uri": "https://localhost:8080/"
        },
        "id": "8vo1i27Q_IB7",
        "outputId": "27d9894b-44ea-4e66-9e6e-13dd37dfff87"
      },
      "execution_count": 50,
      "outputs": [
        {
          "output_type": "stream",
          "name": "stdout",
          "text": [
            "Silhouette Score : 0.60\n"
          ]
        }
      ]
    },
    {
      "cell_type": "markdown",
      "source": [
        "## Plotting"
      ],
      "metadata": {
        "id": "OqME5J9q_KMU"
      }
    },
    {
      "cell_type": "code",
      "source": [
        "plt.figure(figsize=[5,5])\n",
        "plt.scatter(X[:,0],X[:,1],c=labels ,cmap='inferno',marker='o',edgecolors='k',label=\"point\")\n",
        "plt.scatter(MS.cluster_centers_[:,0],MS.cluster_centers_[:,1],s=100,label=\"centroids\",marker='*')\n",
        "plt.legend()\n",
        "plt.show()"
      ],
      "metadata": {
        "colab": {
          "base_uri": "https://localhost:8080/",
          "height": 445
        },
        "id": "p72-357__QLJ",
        "outputId": "a9b9bf23-bdd7-49fd-8d79-f60a81cabf08"
      },
      "execution_count": 51,
      "outputs": [
        {
          "output_type": "display_data",
          "data": {
            "text/plain": [
              "<Figure size 500x500 with 1 Axes>"
            ],
            "image/png": "[encoded data removed]"
          },
          "metadata": {}
        }
      ]
    }
  ]
}