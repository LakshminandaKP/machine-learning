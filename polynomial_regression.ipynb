{
  "nbformat": 4,
  "nbformat_minor": 0,
  "metadata": {
    "colab": {
      "provenance": [],
      "toc_visible": true,
      "collapsed_sections": [
        "CT5Ge_cn87-i"
      ],
      "authorship_tag": "ABX9TyNFrOM08kP7P7i/fRE3mHCX",
      "include_colab_link": true
    },
    "kernelspec": {
      "name": "python3",
      "display_name": "Python 3"
    },
    "language_info": {
      "name": "python"
    }
  },
  "cells": [
    {
      "cell_type": "markdown",
      "metadata": {
        "id": "view-in-github",
        "colab_type": "text"
      },
      "source": [
        "<a href=\"https://colab.research.google.com/github/LakshminandaKP/machine-learning/blob/main/polynomial_regression.ipynb\" target=\"_parent\"><img src=\"https://colab.research.google.com/assets/colab-badge.svg\" alt=\"Open In Colab\"/></a>"
      ]
    },
    {
      "cell_type": "markdown",
      "source": [
        "# **PLOYNOMIAL REGRESSION**\n",
        "\n",
        "\n"
      ],
      "metadata": {
        "id": "pjgjFQRA8uqq"
      }
    },
    {
      "cell_type": "markdown",
      "source": [
        "## IMPORT MODULES"
      ],
      "metadata": {
        "id": "LnllmAtF83FK"
      }
    },
    {
      "cell_type": "code",
      "source": [
        "import pandas as pd\n",
        "from sklearn.linear_model import LinearRegression\n",
        "from sklearn.metrics import mean_squared_error,r2_score\n",
        "import matplotlib.pyplot as plt\n",
        "from sklearn.preprocessing import PolynomialFeatures\n"
      ],
      "metadata": {
        "id": "UHctyrJQ4pBy"
      },
      "execution_count": null,
      "outputs": []
    },
    {
      "cell_type": "markdown",
      "source": [
        "## DATASET"
      ],
      "metadata": {
        "id": "CT5Ge_cn87-i"
      }
    },
    {
      "cell_type": "code",
      "source": [
        "import numpy as np\n",
        "\n",
        "x=np.array([[12],[23],[34],[45],[56],[67],[78],[89],[123],[134]])\n",
        "Y=np.array([240,1135,2568,4521,7836,9236,11932,14589,19856,23145])"
      ],
      "metadata": {
        "id": "dPhF4T937VhA"
      },
      "execution_count": null,
      "outputs": []
    },
    {
      "cell_type": "markdown",
      "source": [
        "## FITTING"
      ],
      "metadata": {
        "id": "eGp7e3NV8pnn"
      }
    },
    {
      "cell_type": "code",
      "source": [
        "lr=LinearRegression()\n",
        "poly=PolynomialFeatures(degree=4)\n",
        "lr.fit(X,Y)\n",
        "X=poly.fit_transform(x)"
      ],
      "metadata": {
        "id": "jFReXyW68m_4"
      },
      "execution_count": null,
      "outputs": []
    },
    {
      "cell_type": "markdown",
      "source": [
        "## PREDICTING "
      ],
      "metadata": {
        "id": "834YumBu9Ysk"
      }
    },
    {
      "cell_type": "code",
      "source": [
        "y_pred=lr.predict(X)"
      ],
      "metadata": {
        "id": "vp7QCWw4923x"
      },
      "execution_count": null,
      "outputs": []
    },
    {
      "cell_type": "code",
      "source": [
        "print(\"coefficients\",lr.coef_)\n",
        "print(\"intercept\",lr.intercept_)\n",
        "print(\"Y_predict:\",y_pred)"
      ],
      "metadata": {
        "colab": {
          "base_uri": "https://localhost:8080/"
        },
        "id": "sbNeRBIa-Hvo",
        "outputId": "af367d3d-0435-42b6-aa7a-58585ab04e2f"
      },
      "execution_count": null,
      "outputs": [
        {
          "output_type": "stream",
          "name": "stdout",
          "text": [
            "coefficients [ 0.00000000e+00 -2.20103213e+02  1.01328254e+01 -9.60798779e-02\n",
            "  3.10260781e-04]\n",
            "intercept 1692.9665366009904\n",
            "Y_predict: [  351.2623836    908.6771115   2561.29264044  4824.27772198\n",
            "  7321.82178203  9787.1349208  12062.44791282 14099.01220695\n",
            " 20142.46142635 22999.61189353]\n"
          ]
        }
      ]
    },
    {
      "cell_type": "markdown",
      "source": [
        "## Evaluvation"
      ],
      "metadata": {
        "id": "UhM1S60Q-qPO"
      }
    },
    {
      "cell_type": "code",
      "source": [
        "data_size=len(X)\n",
        "SSE=mean_squared_error(Y,y_pred)*data_size\n",
        "r2=r2_score(Y,y_pred)\n",
        "print(\"sse:\",SSE)\n",
        "print(f\"r squared:{r2}\")\n"
      ],
      "metadata": {
        "colab": {
          "base_uri": "https://localhost:8080/"
        },
        "id": "0Q01tr2T-wRv",
        "outputId": "e7748cd6-dfc9-459c-dae5-04ea90f560b3"
      },
      "execution_count": null,
      "outputs": [
        {
          "output_type": "stream",
          "name": "stdout",
          "text": [
            "sse: 1084055.219531293\n",
            "r squared:0.9980525281910205\n"
          ]
        }
      ]
    },
    {
      "cell_type": "markdown",
      "source": [
        "## PLOTTING"
      ],
      "metadata": {
        "id": "7Qgdm18R_ywh"
      }
    },
    {
      "cell_type": "code",
      "source": [
        "plt.scatter(x,Y,color=\"blue\",label=\"data points\")\n",
        "plt.plot(x,y_pred,color=\"red\",linewidth=2,label=\"Regression line\")\n",
        "plt.xlabel(\"x\")\n",
        "plt.ylabel(\"y_predict\")\n",
        "plt.legend()\n",
        "plt.title(\"line regression\")\n",
        "plt.show()"
      ],
      "metadata": {
        "colab": {
          "base_uri": "https://localhost:8080/",
          "height": 472
        },
        "id": "gLL_YPK6_3jZ",
        "outputId": "af8f62cc-6297-4b93-cbb1-a08a1634452b"
      },
      "execution_count": null,
      "outputs": [
        {
          "output_type": "display_data",
          "data": {
            "text/plain": [
              "<Figure size 640x480 with 1 Axes>"
            ],
            "image/png": "[encoded data removed]"
          },
          "metadata": {}
        }
      ]
    }
  ]
}
